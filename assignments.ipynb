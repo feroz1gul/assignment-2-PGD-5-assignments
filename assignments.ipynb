{
 "cells": [
  {
   "cell_type": "code",
   "execution_count": 7,
   "id": "0f2790ea-126b-445c-a8a6-a5951ecc89b5",
   "metadata": {
    "tags": []
   },
   "outputs": [
    {
     "name": "stdout",
     "output_type": "stream",
     "text": [
      "My name is feroz gul, I am 26 years old, and I live in Pakistan karachi.\n"
     ]
    }
   ],
   "source": [
    "# assign 1/String Concatenation and Formatting\n",
    "\n",
    "name = \"feroz gul\"\n",
    "age = 26\n",
    "country = \"Pakistan karachi\"\n",
    "\n",
    "sentence = \"My name is {}, I am {} years old, and I live in {}.\".format(name, age, country)\n",
    "print(sentence)\n"
   ]
  },
  {
   "cell_type": "code",
   "execution_count": 9,
   "id": "688e62db-c952-4482-b749-924f92ee9f76",
   "metadata": {
    "tags": []
   },
   "outputs": [
    {
     "name": "stdout",
     "output_type": "stream",
     "text": [
      "I bought `10` `Bugatti`(s) at `$100,000` each, for a total of `$1,000,000`.\n"
     ]
    }
   ],
   "source": [
    "# assign 2/String Formatting using `.format()`\n",
    "\n",
    "item = \"Bugatti\"\n",
    "price = 100000\n",
    "quantity = 10\n",
    "total_cost = price * quantity\n",
    "\n",
    "formatted_string = \"I bought `{}` `{}`(s) at `${:,}` each, for a total of `${:,}`.\".format(quantity, item, price, total_cost)\n",
    "print(formatted_string)"
   ]
  },
  {
   "cell_type": "code",
   "execution_count": 13,
   "id": "7aaf0764-ad64-4806-b39c-ac09481678a4",
   "metadata": {
    "tags": []
   },
   "outputs": [
    {
     "name": "stdout",
     "output_type": "stream",
     "text": [
      "Its about end of two months temperature in `Karachi` is `25°C`.\n"
     ]
    }
   ],
   "source": [
    "# assign 3/String Interpolation using `f''`\n",
    "\n",
    "city = \"Karachi\"\n",
    "temperature = \"25°C\"\n",
    "\n",
    "interpolated_string = f\"Its about end of two months temperature in `{city}` is `{temperature}`.\"\n",
    "print(interpolated_string)"
   ]
  },
  {
   "cell_type": "code",
   "execution_count": 14,
   "id": "ad7455e1-e643-46d1-a05e-945d7461ad3e",
   "metadata": {
    "tags": []
   },
   "outputs": [
    {
     "name": "stdout",
     "output_type": "stream",
     "text": [
      "Product: sun glasses\n",
      "Original Price: 4000\n",
      "Discount: 10%\n",
      "Discounted Price: 3600.00\n"
     ]
    }
   ],
   "source": [
    "# assign 4/Combining Formatting Methods\n",
    "\n",
    "product = \"sun glasses\"\n",
    "discount = 10\n",
    "original_price = 4000\n",
    "\n",
    "discounted_price = original_price * (1 - discount / 100)\n",
    "\n",
    "descriptive_string = \"Product: {}\\nOriginal Price: {}\\nDiscount: {}%\\nDiscounted Price: {:.2f}\".format(\n",
    "    product, original_price, discount, discounted_price)\n",
    "\n",
    "print(descriptive_string)\n"
   ]
  },
  {
   "cell_type": "code",
   "execution_count": 26,
   "id": "e2eda02f-e124-4cac-9122-189d581ddc21",
   "metadata": {
    "tags": []
   },
   "outputs": [
    {
     "name": "stdout",
     "output_type": "stream",
     "text": [
      "My name is feroz gul. I am 26 years old.\n"
     ]
    }
   ],
   "source": [
    "# assign 5/String Formatting using `%()`\n",
    "\n",
    "import datetime\n",
    "\n",
    "# Create variables\n",
    "first_name = \"feroz\"\n",
    "last_name = \"gul\"\n",
    "birth_year = 1997\n",
    "\n",
    "# Create a datetime object for the current date and time\n",
    "current_datetime = datetime.datetime(2023, 8, 14, 7, 55,)  # Replace with your desired date and time\n",
    "\n",
    "# Calculate age\n",
    "age = current_datetime.year - birth_year\n",
    "\n",
    "# Create and format the string\n",
    "formatted_string = \"My name is %(first_name)s %(last_name)s. I am %(age)d years old.\" % {\n",
    "    \"first_name\": first_name,\n",
    "    \"last_name\": last_name,\n",
    "    \"age\": age\n",
    "}\n",
    "\n",
    "# Print the formatted string\n",
    "print(formatted_string)\n"
   ]
  }
 ],
 "metadata": {
  "kernelspec": {
   "display_name": "Python 3 (ipykernel)",
   "language": "python",
   "name": "python3"
  },
  "language_info": {
   "codemirror_mode": {
    "name": "ipython",
    "version": 3
   },
   "file_extension": ".py",
   "mimetype": "text/x-python",
   "name": "python",
   "nbconvert_exporter": "python",
   "pygments_lexer": "ipython3",
   "version": "3.11.4"
  }
 },
 "nbformat": 4,
 "nbformat_minor": 5
}
